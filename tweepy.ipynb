{
 "cells": [
  {
   "cell_type": "code",
   "execution_count": 1,
   "metadata": {},
   "outputs": [],
   "source": [
    "# Import packages\n",
    "## tweepy - api to get data from twitter\n",
    "import tweepy as tw\n",
    "## hiding API keys - ref: https://youtu.be/CJjSOzb0IYs\n",
    "import apikeys\n",
    "## data manipulation\n",
    "import pandas as pd"
   ]
  },
  {
   "cell_type": "code",
   "execution_count": 2,
   "metadata": {},
   "outputs": [],
   "source": [
    "## Authentication Tokens\n",
    "my_bearer = apikeys.bearer\n",
    "my_key = apikeys.key\n",
    "my_secret = apikeys.secret\n",
    "my_token = apikeys.token\n",
    "my_token_secret = apikeys.token_secret\n",
    "\n",
    "## creating client object\n",
    "client = tw.Client(bearer_token=my_bearer, consumer_key=my_key, consumer_secret=my_secret, access_token=my_token, access_token_secret=my_token_secret)"
   ]
  },
  {
   "cell_type": "code",
   "execution_count": 3,
   "metadata": {},
   "outputs": [],
   "source": [
    "# Replace with your own search query\n",
    "#query = '@LulaOficial -is:retweet'\n",
    "query = '@LulaOficial'"
   ]
  },
  {
   "cell_type": "code",
   "execution_count": 4,
   "metadata": {},
   "outputs": [],
   "source": [
    "# 2022-08-16 was the first oficial day to elections propaganda\n",
    "#counts_all = client.get_all_tweets_count(query=query, granularity='day', start_time='2022-08-16')"
   ]
  },
  {
   "cell_type": "code",
   "execution_count": 5,
   "metadata": {},
   "outputs": [
    {
     "data": {
      "text/plain": [
       "Response(data=[{'end': '2022-09-10T00:00:00.000Z', 'start': '2022-09-09T20:15:39.000Z', 'tweet_count': 60047}, {'end': '2022-09-11T00:00:00.000Z', 'start': '2022-09-10T00:00:00.000Z', 'tweet_count': 225334}, {'end': '2022-09-12T00:00:00.000Z', 'start': '2022-09-11T00:00:00.000Z', 'tweet_count': 182380}, {'end': '2022-09-13T00:00:00.000Z', 'start': '2022-09-12T00:00:00.000Z', 'tweet_count': 196403}, {'end': '2022-09-14T00:00:00.000Z', 'start': '2022-09-13T00:00:00.000Z', 'tweet_count': 234018}, {'end': '2022-09-15T00:00:00.000Z', 'start': '2022-09-14T00:00:00.000Z', 'tweet_count': 149244}, {'end': '2022-09-16T00:00:00.000Z', 'start': '2022-09-15T00:00:00.000Z', 'tweet_count': 163810}, {'end': '2022-09-16T20:15:39.000Z', 'start': '2022-09-16T00:00:00.000Z', 'tweet_count': 144280}], includes={}, errors=[], meta={'total_tweet_count': 1355516})"
      ]
     },
     "execution_count": 5,
     "metadata": {},
     "output_type": "execute_result"
    }
   ],
   "source": [
    "counts_recent = client.get_recent_tweets_count(query=query, granularity='day')\n",
    "counts_recent"
   ]
  }
 ],
 "metadata": {
  "kernelspec": {
   "display_name": "Python 3.7.3 ('brk')",
   "language": "python",
   "name": "python3"
  },
  "language_info": {
   "codemirror_mode": {
    "name": "ipython",
    "version": 3
   },
   "file_extension": ".py",
   "mimetype": "text/x-python",
   "name": "python",
   "nbconvert_exporter": "python",
   "pygments_lexer": "ipython3",
   "version": "3.7.3"
  },
  "orig_nbformat": 4,
  "vscode": {
   "interpreter": {
    "hash": "4b3ea39d8f86fd8c1c927c367d9b50ccc53cf6881987b897a6828ed418ed8636"
   }
  }
 },
 "nbformat": 4,
 "nbformat_minor": 2
}
