{
 "cells": [
  {
   "cell_type": "code",
   "execution_count": 1,
   "metadata": {},
   "outputs": [],
   "source": [
    "# Import packages\n",
    "## tweepy - api to get data from twitter\n",
    "import tweepy as tw\n",
    "## hiding API keys - ref: https://youtu.be/CJjSOzb0IYs\n",
    "import apikeys\n",
    "## data manipulation\n",
    "import pandas as pd"
   ]
  },
  {
   "cell_type": "code",
   "execution_count": 6,
   "metadata": {},
   "outputs": [],
   "source": [
    "## Authentication Tokens\n",
    "my_bearer = apikeys.bearer\n",
    "my_key = apikeys.key\n",
    "my_secret = apikeys.secret\n",
    "my_token = apikeys.token\n",
    "my_token_secret = apikeys.token_secret\n",
    "\n",
    "## creating client object\n",
    "client = tw.Client(\n",
    "    bearer_token=my_bearer, \n",
    "    consumer_key=my_key, \n",
    "    consumer_secret=my_secret, \n",
    "    access_token=my_token, \n",
    "    access_token_secret=my_token_secret\n",
    "    )"
   ]
  },
  {
   "cell_type": "code",
   "execution_count": 29,
   "metadata": {},
   "outputs": [],
   "source": [
    "# Replace with your own search query\n",
    "#query = '@LulaOficial -is:retweet'\n",
    "query = '@LulaOficial'"
   ]
  },
  {
   "cell_type": "code",
   "execution_count": 71,
   "metadata": {},
   "outputs": [
    {
     "data": {
      "text/html": [
       "<div>\n",
       "<style scoped>\n",
       "    .dataframe tbody tr th:only-of-type {\n",
       "        vertical-align: middle;\n",
       "    }\n",
       "\n",
       "    .dataframe tbody tr th {\n",
       "        vertical-align: top;\n",
       "    }\n",
       "\n",
       "    .dataframe thead th {\n",
       "        text-align: right;\n",
       "    }\n",
       "</style>\n",
       "<table border=\"1\" class=\"dataframe\">\n",
       "  <thead>\n",
       "    <tr style=\"text-align: right;\">\n",
       "      <th></th>\n",
       "      <th>start</th>\n",
       "      <th>end</th>\n",
       "      <th>lula</th>\n",
       "    </tr>\n",
       "  </thead>\n",
       "  <tbody>\n",
       "    <tr>\n",
       "      <th>0</th>\n",
       "      <td>2022-09-10T21:39:39.000Z</td>\n",
       "      <td>2022-09-11T00:00:00.000Z</td>\n",
       "      <td>35261</td>\n",
       "    </tr>\n",
       "    <tr>\n",
       "      <th>1</th>\n",
       "      <td>2022-09-11T00:00:00.000Z</td>\n",
       "      <td>2022-09-12T00:00:00.000Z</td>\n",
       "      <td>182015</td>\n",
       "    </tr>\n",
       "    <tr>\n",
       "      <th>2</th>\n",
       "      <td>2022-09-12T00:00:00.000Z</td>\n",
       "      <td>2022-09-13T00:00:00.000Z</td>\n",
       "      <td>195971</td>\n",
       "    </tr>\n",
       "    <tr>\n",
       "      <th>3</th>\n",
       "      <td>2022-09-13T00:00:00.000Z</td>\n",
       "      <td>2022-09-14T00:00:00.000Z</td>\n",
       "      <td>233565</td>\n",
       "    </tr>\n",
       "    <tr>\n",
       "      <th>4</th>\n",
       "      <td>2022-09-14T00:00:00.000Z</td>\n",
       "      <td>2022-09-15T00:00:00.000Z</td>\n",
       "      <td>148930</td>\n",
       "    </tr>\n",
       "    <tr>\n",
       "      <th>5</th>\n",
       "      <td>2022-09-15T00:00:00.000Z</td>\n",
       "      <td>2022-09-16T00:00:00.000Z</td>\n",
       "      <td>163386</td>\n",
       "    </tr>\n",
       "    <tr>\n",
       "      <th>6</th>\n",
       "      <td>2022-09-16T00:00:00.000Z</td>\n",
       "      <td>2022-09-17T00:00:00.000Z</td>\n",
       "      <td>184265</td>\n",
       "    </tr>\n",
       "    <tr>\n",
       "      <th>7</th>\n",
       "      <td>2022-09-17T00:00:00.000Z</td>\n",
       "      <td>2022-09-17T21:39:39.000Z</td>\n",
       "      <td>172489</td>\n",
       "    </tr>\n",
       "  </tbody>\n",
       "</table>\n",
       "</div>"
      ],
      "text/plain": [
       "                      start                       end    lula\n",
       "0  2022-09-10T21:39:39.000Z  2022-09-11T00:00:00.000Z   35261\n",
       "1  2022-09-11T00:00:00.000Z  2022-09-12T00:00:00.000Z  182015\n",
       "2  2022-09-12T00:00:00.000Z  2022-09-13T00:00:00.000Z  195971\n",
       "3  2022-09-13T00:00:00.000Z  2022-09-14T00:00:00.000Z  233565\n",
       "4  2022-09-14T00:00:00.000Z  2022-09-15T00:00:00.000Z  148930\n",
       "5  2022-09-15T00:00:00.000Z  2022-09-16T00:00:00.000Z  163386\n",
       "6  2022-09-16T00:00:00.000Z  2022-09-17T00:00:00.000Z  184265\n",
       "7  2022-09-17T00:00:00.000Z  2022-09-17T21:39:39.000Z  172489"
      ]
     },
     "execution_count": 71,
     "metadata": {},
     "output_type": "execute_result"
    }
   ],
   "source": [
    "counts_recent = client.get_recent_tweets_count(query=query, granularity='day')\n",
    "pd.DataFrame(counts_recent[0], columns=['start', 'end', 'tweet_count']).rename(columns={\"tweet_count\": \"lula\"})"
   ]
  }
 ],
 "metadata": {
  "kernelspec": {
   "display_name": "Python 3.8.11 ('igti')",
   "language": "python",
   "name": "python3"
  },
  "language_info": {
   "codemirror_mode": {
    "name": "ipython",
    "version": 3
   },
   "file_extension": ".py",
   "mimetype": "text/x-python",
   "name": "python",
   "nbconvert_exporter": "python",
   "pygments_lexer": "ipython3",
   "version": "3.8.11"
  },
  "orig_nbformat": 4,
  "vscode": {
   "interpreter": {
    "hash": "f1de33e5be99868688a880e1990fe00865f915fbb1929a0fe626bffde9372039"
   }
  }
 },
 "nbformat": 4,
 "nbformat_minor": 2
}
