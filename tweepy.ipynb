{
 "cells": [
  {
   "cell_type": "code",
   "execution_count": 1,
   "metadata": {},
   "outputs": [],
   "source": [
    "# Import packages\n",
    "## tweepy - api to get data from twitter\n",
    "import tweepy as tw\n",
    "## hiding API keys - ref: https://youtu.be/CJjSOzb0IYs\n",
    "import apikeys\n",
    "## data manipulation\n",
    "import pandas as pd"
   ]
  },
  {
   "cell_type": "code",
   "execution_count": 2,
   "metadata": {},
   "outputs": [],
   "source": [
    "## Authentication Tokens\n",
    "my_bearer = apikeys.bearer\n",
    "my_key = apikeys.key\n",
    "my_secret = apikeys.secret\n",
    "my_token = apikeys.token\n",
    "my_token_secret = apikeys.token_secret\n",
    "\n",
    "## creating client object\n",
    "client = tw.Client(\n",
    "    bearer_token=my_bearer, \n",
    "    consumer_key=my_key, \n",
    "    consumer_secret=my_secret, \n",
    "    access_token=my_token, \n",
    "    access_token_secret=my_token_secret\n",
    "    )"
   ]
  },
  {
   "cell_type": "code",
   "execution_count": 3,
   "metadata": {},
   "outputs": [],
   "source": [
    "# Replace with your own search query\n",
    "#query = '@LulaOficial -is:retweet'\n",
    "query_list = ['@LulaOficial', '@jairbolsonaro', '@cirogomes', '@simonetebetbr']"
   ]
  },
  {
   "cell_type": "code",
   "execution_count": 4,
   "metadata": {},
   "outputs": [
    {
     "data": {
      "text/html": [
       "<div>\n",
       "<style scoped>\n",
       "    .dataframe tbody tr th:only-of-type {\n",
       "        vertical-align: middle;\n",
       "    }\n",
       "\n",
       "    .dataframe tbody tr th {\n",
       "        vertical-align: top;\n",
       "    }\n",
       "\n",
       "    .dataframe thead th {\n",
       "        text-align: right;\n",
       "    }\n",
       "</style>\n",
       "<table border=\"1\" class=\"dataframe\">\n",
       "  <thead>\n",
       "    <tr style=\"text-align: right;\">\n",
       "      <th></th>\n",
       "      <th>start</th>\n",
       "      <th>end</th>\n",
       "      <th>@LulaOficial</th>\n",
       "      <th>@jairbolsonaro</th>\n",
       "      <th>@cirogomes</th>\n",
       "      <th>@simonetebetbr</th>\n",
       "    </tr>\n",
       "  </thead>\n",
       "  <tbody>\n",
       "    <tr>\n",
       "      <th>0</th>\n",
       "      <td>2022-09-12T00:00:00.000Z</td>\n",
       "      <td>2022-09-13T00:00:00.000Z</td>\n",
       "      <td>195957</td>\n",
       "      <td>147111</td>\n",
       "      <td>40319</td>\n",
       "      <td>3068</td>\n",
       "    </tr>\n",
       "    <tr>\n",
       "      <th>1</th>\n",
       "      <td>2022-09-13T00:00:00.000Z</td>\n",
       "      <td>2022-09-14T00:00:00.000Z</td>\n",
       "      <td>233442</td>\n",
       "      <td>187982</td>\n",
       "      <td>30843</td>\n",
       "      <td>4392</td>\n",
       "    </tr>\n",
       "    <tr>\n",
       "      <th>2</th>\n",
       "      <td>2022-09-14T00:00:00.000Z</td>\n",
       "      <td>2022-09-15T00:00:00.000Z</td>\n",
       "      <td>148868</td>\n",
       "      <td>201442</td>\n",
       "      <td>46792</td>\n",
       "      <td>6831</td>\n",
       "    </tr>\n",
       "    <tr>\n",
       "      <th>3</th>\n",
       "      <td>2022-09-15T00:00:00.000Z</td>\n",
       "      <td>2022-09-16T00:00:00.000Z</td>\n",
       "      <td>163307</td>\n",
       "      <td>152931</td>\n",
       "      <td>43433</td>\n",
       "      <td>3177</td>\n",
       "    </tr>\n",
       "    <tr>\n",
       "      <th>4</th>\n",
       "      <td>2022-09-16T00:00:00.000Z</td>\n",
       "      <td>2022-09-17T00:00:00.000Z</td>\n",
       "      <td>184217</td>\n",
       "      <td>126500</td>\n",
       "      <td>37154</td>\n",
       "      <td>3995</td>\n",
       "    </tr>\n",
       "  </tbody>\n",
       "</table>\n",
       "</div>"
      ],
      "text/plain": [
       "                      start                       end  @LulaOficial  \\\n",
       "0  2022-09-12T00:00:00.000Z  2022-09-13T00:00:00.000Z        195957   \n",
       "1  2022-09-13T00:00:00.000Z  2022-09-14T00:00:00.000Z        233442   \n",
       "2  2022-09-14T00:00:00.000Z  2022-09-15T00:00:00.000Z        148868   \n",
       "3  2022-09-15T00:00:00.000Z  2022-09-16T00:00:00.000Z        163307   \n",
       "4  2022-09-16T00:00:00.000Z  2022-09-17T00:00:00.000Z        184217   \n",
       "\n",
       "   @jairbolsonaro  @cirogomes  @simonetebetbr  \n",
       "0          147111       40319            3068  \n",
       "1          187982       30843            4392  \n",
       "2          201442       46792            6831  \n",
       "3          152931       43433            3177  \n",
       "4          126500       37154            3995  "
      ]
     },
     "execution_count": 4,
     "metadata": {},
     "output_type": "execute_result"
    }
   ],
   "source": [
    "# Getting data from twitter\n",
    "counts_recent = client.get_recent_tweets_count(query=query_list[0], granularity='day')\n",
    "## creating the dataframe and removing the first and the last range\n",
    "df_all = pd.DataFrame(counts_recent[0], columns=['start', 'end', 'tweet_count']).rename(columns={\"tweet_count\": query_list[0]}).iloc[1:6].reset_index(drop=True)\n",
    "## loop - get data about the top 4 candidates\n",
    "for i in range(1, len(query_list)):\n",
    "    counts_recent = client.get_recent_tweets_count(query=query_list[i], granularity='day')\n",
    "    df_temp = pd.DataFrame(counts_recent[0], columns=['tweet_count']).rename(columns={\"tweet_count\": query_list[i]}).iloc[1:6].reset_index(drop=True)\n",
    "    df_all = pd.concat([df_all, df_temp], axis=1)\n",
    "## final dataset\n",
    "df_all"
   ]
  },
  {
   "cell_type": "code",
   "execution_count": 5,
   "metadata": {},
   "outputs": [],
   "source": [
    "# Saving dataset\n",
    "## last 5 days\n",
    "df_all.to_csv('count_data/from_' + df_all.loc[0, 'start'][0:10] + '_to_' + df_all.loc[len(df_all)-1, 'start'][0:10] + '.csv')\n",
    "## only last day\n",
    "df_all.loc[len(df_all)-1:, :].to_csv('count_data/day_' + df_all.loc[len(df_all)-1, 'start'][0:10] + '.csv')"
   ]
  }
 ],
 "metadata": {
  "kernelspec": {
   "display_name": "Python 3.8.11 ('igti')",
   "language": "python",
   "name": "python3"
  },
  "language_info": {
   "codemirror_mode": {
    "name": "ipython",
    "version": 3
   },
   "file_extension": ".py",
   "mimetype": "text/x-python",
   "name": "python",
   "nbconvert_exporter": "python",
   "pygments_lexer": "ipython3",
   "version": "3.8.11"
  },
  "orig_nbformat": 4,
  "vscode": {
   "interpreter": {
    "hash": "f1de33e5be99868688a880e1990fe00865f915fbb1929a0fe626bffde9372039"
   }
  }
 },
 "nbformat": 4,
 "nbformat_minor": 2
}
