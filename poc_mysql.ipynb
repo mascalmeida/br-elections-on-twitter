{
 "cells": [
  {
   "cell_type": "code",
   "execution_count": 1,
   "metadata": {},
   "outputs": [],
   "source": [
    "## data manipulation\n",
    "import pandas as pd\n",
    "## show dataframe\n",
    "from IPython.display import display\n",
    "## Loading data from python to sql database\n",
    "import sqlalchemy as sa\n",
    "from sqlalchemy import create_engine\n",
    "## working with mysql\n",
    "import pymysql\n",
    "## hiding MySQL credentials - ref: https://youtu.be/CJjSOzb0IYs\n",
    "import mysqlcredentials"
   ]
  },
  {
   "cell_type": "code",
   "execution_count": null,
   "metadata": {},
   "outputs": [],
   "source": [
    "profile_info = pd.read_csv('datasets/profile_info_2022-09-20.csv')\n",
    "profile_mentions = pd.read_csv('datasets/profile_mentions_2022-09-20.csv')\n",
    "display(profile_info, profile_mentions.head(3))"
   ]
  },
  {
   "cell_type": "code",
   "execution_count": 5,
   "metadata": {},
   "outputs": [],
   "source": [
    "# Conection to MySQL to upload data\n",
    "user = mysqlcredentials.user\n",
    "passw = mysqlcredentials.passw\n",
    "host =  mysqlcredentials.host\n",
    "database = mysqlcredentials.database\n",
    "port = mysqlcredentials.port\n",
    "\n",
    "engine = create_engine(\"mysql+pymysql://{user}:{pw}@{host}:{port}/{db}\"\n",
    "                       .format(user=user,\n",
    "                               pw=passw,\n",
    "                               host=host,\n",
    "                               port=port,\n",
    "                               db=database))"
   ]
  },
  {
   "cell_type": "code",
   "execution_count": null,
   "metadata": {},
   "outputs": [],
   "source": [
    "## Filtering data to avoid duplicates\n",
    "last_update = pd.read_sql(\"SELECT * FROM vw_last_update\", engine)\n",
    "try:\n",
    "    new_profile_info = profile_info.loc[(pd.to_datetime(profile_info['date']).dt.date > pd.to_datetime(last_update.loc[0, 'end_date']).date())]\n",
    "\n",
    "    new_profile_mentions = profile_mentions.loc[\n",
    "        pd.to_datetime(profile_mentions['end']).dt.tz_localize(None) > pd.to_datetime(last_update.loc[0, 'end']).tz_localize(None)\n",
    "        ].reset_index(drop=True)\n",
    "        \n",
    "    display(new_profile_info, new_profile_mentions)\n",
    "except:\n",
    "    if len(last_update) == 0:\n",
    "        print('database is empty')"
   ]
  },
  {
   "cell_type": "code",
   "execution_count": null,
   "metadata": {},
   "outputs": [],
   "source": [
    "new_profile_info.to_sql(con=engine, name='profile_info', if_exists='append', index=False)\n",
    "new_profile_mentions.to_sql(con=engine, name='profile_mentions', if_exists='append', index=False)"
   ]
  }
 ],
 "metadata": {
  "kernelspec": {
   "display_name": "Python 3.7.3 ('brk')",
   "language": "python",
   "name": "python3"
  },
  "language_info": {
   "codemirror_mode": {
    "name": "ipython",
    "version": 3
   },
   "file_extension": ".py",
   "mimetype": "text/x-python",
   "name": "python",
   "nbconvert_exporter": "python",
   "pygments_lexer": "ipython3",
   "version": "3.7.3"
  },
  "orig_nbformat": 4,
  "vscode": {
   "interpreter": {
    "hash": "4b3ea39d8f86fd8c1c927c367d9b50ccc53cf6881987b897a6828ed418ed8636"
   }
  }
 },
 "nbformat": 4,
 "nbformat_minor": 2
}
